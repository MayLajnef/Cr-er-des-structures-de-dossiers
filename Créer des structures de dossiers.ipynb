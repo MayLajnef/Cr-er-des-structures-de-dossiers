{
 "cells": [
  {
   "cell_type": "code",
   "execution_count": 5,
   "id": "2f39b85e",
   "metadata": {},
   "outputs": [],
   "source": [
    "from pathlib import Path\n",
    "\n",
    "chemin = Path(r\"C:\\Users\\Amine LAJNEF\\Dossier_test\")\n",
    " \n",
    "d = {\"Films\": [\"Le seigneur des anneaux\",\n",
    "               \"Harry Potter\",\n",
    "               \"Moon\",\n",
    "               \"Forrest Gump\"],\n",
    "     \"Employes\": [\"Paul\",\n",
    "                  \"Pierre\",\n",
    "                  \"Marie\"],\n",
    "     \"Exercices\": [\"les_variables\",\n",
    "                   \"les_fichiers\",\n",
    "                   \"les_boucles\"]}\n",
    "for dossier, sous_dossiers in d.items():\n",
    "    for sous_dossier in sous_dossiers:\n",
    "        (chemin / dossier / sous_dossier).mkdir(exist_ok = True, parents = True)"
   ]
  },
  {
   "cell_type": "code",
   "execution_count": null,
   "id": "534b8fe2",
   "metadata": {},
   "outputs": [],
   "source": []
  }
 ],
 "metadata": {
  "kernelspec": {
   "display_name": "Python 3 (ipykernel)",
   "language": "python",
   "name": "python3"
  },
  "language_info": {
   "codemirror_mode": {
    "name": "ipython",
    "version": 3
   },
   "file_extension": ".py",
   "mimetype": "text/x-python",
   "name": "python",
   "nbconvert_exporter": "python",
   "pygments_lexer": "ipython3",
   "version": "3.9.13"
  }
 },
 "nbformat": 4,
 "nbformat_minor": 5
}
